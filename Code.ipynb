{
 "cells": [
  {
   "cell_type": "code",
   "execution_count": 27,
   "metadata": {},
   "outputs": [
    {
     "name": "stdout",
     "output_type": "stream",
     "text": [
      "\n",
      "Descriptive statistics:\n",
      "             index         sic3           yr        ldsal         lemp  \\\n",
      "count  2971.000000  2971.000000  2971.000000  2971.000000  2971.000000   \n",
      "mean    696.203299   331.455739    80.489061     5.673087     1.259177   \n",
      "std     404.779371    51.952189     5.351874     1.960717     1.775248   \n",
      "min       1.000000   200.000000    73.000000    -0.857349    -3.772261   \n",
      "25%     343.500000   286.000000    78.000000     4.250526    -0.024805   \n",
      "50%     696.000000   356.000000    78.000000     5.529348     1.114157   \n",
      "75%    1048.000000   367.000000    83.000000     7.083825     2.631889   \n",
      "max    1400.000000   399.000000    88.000000    11.698400     6.732211   \n",
      "\n",
      "             ldnpt        ldrst        ldrnd        ldinv  \n",
      "count  2971.000000  2971.000000  2971.000000  2971.000000  \n",
      "mean      4.468996     3.400962     1.787530     2.674828  \n",
      "std       2.216520     2.028775     2.052410     2.170476  \n",
      "min      -1.389284    -4.287164    -5.313206    -3.844328  \n",
      "25%       2.945743     1.989768     0.354377     1.124324  \n",
      "50%       4.212165     3.177259     1.631417     2.506399  \n",
      "75%       6.000513     4.792110     3.188696     4.196305  \n",
      "max      11.111610     9.966140     8.432297     8.988533  \n",
      "\n",
      "Number of firms in balanced panel: 214\n",
      "Number of firms (total) in unbalanced panel: 1400\n",
      "\n",
      "Balanced panel summary:\n",
      "             index        sic3          yr       ldsal        lemp  \\\n",
      "count   856.000000  856.000000  856.000000  856.000000  856.000000   \n",
      "mean    691.350467  328.401869   80.500000    6.914288    2.412850   \n",
      "std     409.719840   48.184220    5.593438    1.837825    1.622330   \n",
      "min       8.000000  200.000000   73.000000    1.664221   -2.071473   \n",
      "25%     328.000000  284.000000   76.750000    5.563856    1.132611   \n",
      "50%     667.000000  352.500000   80.500000    7.056966    2.652043   \n",
      "75%    1026.000000  367.000000   84.250000    8.267181    3.626505   \n",
      "max    1394.000000  394.000000   88.000000   11.698400    6.732211   \n",
      "\n",
      "            ldnpt       ldrst       ldrnd       ldinv  \n",
      "count  856.000000  856.000000  856.000000  856.000000  \n",
      "mean     5.915943    4.885773    3.221566    4.068996  \n",
      "std      2.057395    1.929879    1.994108    2.055097  \n",
      "min      0.805678    0.062452   -2.710516   -2.075558  \n",
      "25%      4.275622    3.292162    1.641826    2.465631  \n",
      "50%      6.032328    5.108575    3.403335    4.234304  \n",
      "75%      7.421641    6.285753    4.672762    5.567879  \n",
      "max     11.111610    9.966140    8.432297    8.888330  \n",
      "\n",
      "Unbalanced panel summary:\n",
      "             index         sic3           yr        ldsal         lemp  \\\n",
      "count  2971.000000  2971.000000  2971.000000  2971.000000  2971.000000   \n",
      "mean    696.203299   331.455739    80.489061     5.673087     1.259177   \n",
      "std     404.779371    51.952189     5.351874     1.960717     1.775248   \n",
      "min       1.000000   200.000000    73.000000    -0.857349    -3.772261   \n",
      "25%     343.500000   286.000000    78.000000     4.250526    -0.024805   \n",
      "50%     696.000000   356.000000    78.000000     5.529348     1.114157   \n",
      "75%    1048.000000   367.000000    83.000000     7.083825     2.631889   \n",
      "max    1400.000000   399.000000    88.000000    11.698400     6.732211   \n",
      "\n",
      "             ldnpt        ldrst        ldrnd        ldinv  \n",
      "count  2971.000000  2971.000000  2971.000000  2971.000000  \n",
      "mean      4.468996     3.400962     1.787530     2.674828  \n",
      "std       2.216520     2.028775     2.052410     2.170476  \n",
      "min      -1.389284    -4.287164    -5.313206    -3.844328  \n",
      "25%       2.945743     1.989768     0.354377     1.124324  \n",
      "50%       4.212165     3.177259     1.631417     2.506399  \n",
      "75%       6.000513     4.792110     3.188696     4.196305  \n",
      "max      11.111610     9.966140     8.432297     8.988533  \n"
     ]
    }
   ],
   "source": [
    "import pandas as pd\n",
    "import statsmodels.api as sm\n",
    "import statsmodels.formula.api as smf\n",
    "from linearmodels import PanelOLS\n",
    "import numpy as np\n",
    "import patsy\n",
    "from numpy.polynomial.polynomial import polyfit\n",
    "\n",
    "# 1. Read the data\n",
    "df = pd.read_csv(\"GMdata.csv\",sep='\\t')\n",
    "\n",
    "# 2. Basic summary\n",
    "print(\"\\nDescriptive statistics:\")\n",
    "print(df.describe())\n",
    "\n",
    "# 3. Check the time dimension per firm\n",
    "#    Count how many years each firm has\n",
    "year_counts = df.groupby('index')['yr'].nunique()\n",
    "\n",
    "# 4. Identify the balanced panel\n",
    "#    Suppose we expect 4 unique years (73, 78, 83, 88) for each firm\n",
    "balanced_firms = year_counts[year_counts == 4].index\n",
    "\n",
    "# Create separate dataframes\n",
    "df_balanced = df[df['index'].isin(balanced_firms)].copy()\n",
    "df_unbalanced = df.copy()  # Entire dataset\n",
    "\n",
    "print(\"\\nNumber of firms in balanced panel:\", len(balanced_firms))\n",
    "print(\"Number of firms (total) in unbalanced panel:\", df['index'].nunique())\n",
    "\n",
    "# 5. Summarize balanced and unbalanced panels\n",
    "print(\"\\nBalanced panel summary:\")\n",
    "print(df_balanced.describe())\n",
    "\n",
    "print(\"\\nUnbalanced panel summary:\")\n",
    "print(df_unbalanced.describe())\n"
   ]
  },
  {
   "cell_type": "code",
   "execution_count": null,
   "metadata": {},
   "outputs": [
    {
     "ename": "ModuleNotFoundError",
     "evalue": "No module named 'statsmodels'",
     "output_type": "error",
     "traceback": [
      "\u001b[0;31m---------------------------------------------------------------------------\u001b[0m",
      "\u001b[0;31mModuleNotFoundError\u001b[0m                       Traceback (most recent call last)",
      "Cell \u001b[0;32mIn[2], line 1\u001b[0m\n\u001b[0;32m----> 1\u001b[0m \u001b[38;5;28;01mimport\u001b[39;00m \u001b[38;5;21;01mstatsmodels\u001b[39;00m\u001b[38;5;21;01m.\u001b[39;00m\u001b[38;5;21;01mformula\u001b[39;00m\u001b[38;5;21;01m.\u001b[39;00m\u001b[38;5;21;01mapi\u001b[39;00m \u001b[38;5;28;01mas\u001b[39;00m \u001b[38;5;21;01msmf\u001b[39;00m\n\u001b[1;32m      3\u001b[0m \u001b[38;5;66;03m# Balanced panel regression (no dummies)\u001b[39;00m\n\u001b[1;32m      4\u001b[0m model_bal_basic \u001b[38;5;241m=\u001b[39m smf\u001b[38;5;241m.\u001b[39mols(\u001b[38;5;124m\"\u001b[39m\u001b[38;5;124mldsal ~ lemp + ldpt\u001b[39m\u001b[38;5;124m\"\u001b[39m,\n\u001b[1;32m      5\u001b[0m                           data\u001b[38;5;241m=\u001b[39mdf_balanced)\u001b[38;5;241m.\u001b[39mfit()\n",
      "\u001b[0;31mModuleNotFoundError\u001b[0m: No module named 'statsmodels'"
     ]
    }
   ],
   "source": [
    "\n",
    "\n",
    "# Balanced panel regression (no dummies)\n",
    "model_bal_basic = smf.ols(\"ldsal ~ lemp + ldpt\",\n",
    "                          data=df_balanced).fit()\n",
    "print(\"OLS (Balanced), no dummies:\")\n",
    "print(model_bal_basic.summary())"
   ]
  },
  {
   "cell_type": "code",
   "execution_count": 3,
   "metadata": {},
   "outputs": [
    {
     "ename": "NameError",
     "evalue": "name 'smf' is not defined",
     "output_type": "error",
     "traceback": [
      "\u001b[0;31m---------------------------------------------------------------------------\u001b[0m",
      "\u001b[0;31mNameError\u001b[0m                                 Traceback (most recent call last)",
      "Cell \u001b[0;32mIn[3], line 2\u001b[0m\n\u001b[1;32m      1\u001b[0m \u001b[38;5;66;03m# Unbalanced panel regression (no dummies)\u001b[39;00m\n\u001b[0;32m----> 2\u001b[0m model_unbal_basic \u001b[38;5;241m=\u001b[39m \u001b[43msmf\u001b[49m\u001b[38;5;241m.\u001b[39mols(\u001b[38;5;124m\"\u001b[39m\u001b[38;5;124mldsal ~ lemp + ldpt\u001b[39m\u001b[38;5;124m\"\u001b[39m,\n\u001b[1;32m      3\u001b[0m                             data\u001b[38;5;241m=\u001b[39mdf_unbalanced)\u001b[38;5;241m.\u001b[39mfit()\n\u001b[1;32m      4\u001b[0m \u001b[38;5;28mprint\u001b[39m(\u001b[38;5;124m\"\u001b[39m\u001b[38;5;130;01m\\n\u001b[39;00m\u001b[38;5;124mOLS (Unbalanced), no dummies:\u001b[39m\u001b[38;5;124m\"\u001b[39m)\n\u001b[1;32m      5\u001b[0m \u001b[38;5;28mprint\u001b[39m(model_unbal_basic\u001b[38;5;241m.\u001b[39msummary())\n",
      "\u001b[0;31mNameError\u001b[0m: name 'smf' is not defined"
     ]
    }
   ],
   "source": [
    "# Unbalanced panel regression (no dummies)\n",
    "model_unbal_basic = smf.ols(\"ldsal ~ lemp + ldpt\",\n",
    "                            data=df_unbalanced).fit()\n",
    "print(\"\\nOLS (Unbalanced), no dummies:\")\n",
    "print(model_unbal_basic.summary())"
   ]
  },
  {
   "cell_type": "code",
   "execution_count": 9,
   "metadata": {},
   "outputs": [
    {
     "ename": "NameError",
     "evalue": "name 'smf' is not defined",
     "output_type": "error",
     "traceback": [
      "\u001b[0;31m---------------------------------------------------------------------------\u001b[0m",
      "\u001b[0;31mNameError\u001b[0m                                 Traceback (most recent call last)",
      "Cell \u001b[0;32mIn[9], line 2\u001b[0m\n\u001b[1;32m      1\u001b[0m \u001b[38;5;66;03m# Example with unbalanced panel and dummies:\u001b[39;00m\n\u001b[0;32m----> 2\u001b[0m model_unbal_dummies \u001b[38;5;241m=\u001b[39m \u001b[43msmf\u001b[49m\u001b[38;5;241m.\u001b[39mols(\u001b[38;5;124m\"\u001b[39m\u001b[38;5;124mldsal ~ lemp + ldpt + C(yr) + C(sic3)\u001b[39m\u001b[38;5;124m\"\u001b[39m,\n\u001b[1;32m      3\u001b[0m                               data\u001b[38;5;241m=\u001b[39mdf_unbalanced)\u001b[38;5;241m.\u001b[39mfit()\n\u001b[1;32m      4\u001b[0m \u001b[38;5;28mprint\u001b[39m(\u001b[38;5;124m\"\u001b[39m\u001b[38;5;130;01m\\n\u001b[39;00m\u001b[38;5;124mOLS (Unbalanced), with year & industry dummies:\u001b[39m\u001b[38;5;124m\"\u001b[39m)\n\u001b[1;32m      5\u001b[0m \u001b[38;5;28mprint\u001b[39m(model_unbal_dummies\u001b[38;5;241m.\u001b[39msummary())\n",
      "\u001b[0;31mNameError\u001b[0m: name 'smf' is not defined"
     ]
    }
   ],
   "source": [
    "# Example with unbalanced panel and dummies:\n",
    "model_unbal_dummies = smf.ols(\"ldsal ~ lemp + ldpt + C(yr) + C(sic3)\",\n",
    "                              data=df_unbalanced).fit()\n",
    "print(\"\\nOLS (Unbalanced), with year & industry dummies:\")\n",
    "print(model_unbal_dummies.summary())"
   ]
  },
  {
   "cell_type": "code",
   "execution_count": null,
   "metadata": {},
   "outputs": [
    {
     "name": "stdout",
     "output_type": "stream",
     "text": [
      "Collecting linearmodels\n",
      "  Downloading linearmodels-6.1-cp312-cp312-manylinux_2_17_x86_64.manylinux2014_x86_64.whl.metadata (7.9 kB)\n",
      "Requirement already satisfied: numpy<3,>=1.22.3 in /home/codespace/.local/lib/python3.12/site-packages (from linearmodels) (2.2.0)\n",
      "Requirement already satisfied: pandas>=1.4.0 in /home/codespace/.local/lib/python3.12/site-packages (from linearmodels) (2.2.3)\n",
      "Requirement already satisfied: scipy>=1.8.0 in /home/codespace/.local/lib/python3.12/site-packages (from linearmodels) (1.14.1)\n",
      "Collecting statsmodels>=0.13.0 (from linearmodels)\n",
      "  Downloading statsmodels-0.14.4-cp312-cp312-manylinux_2_17_x86_64.manylinux2014_x86_64.whl.metadata (9.2 kB)\n",
      "Collecting mypy-extensions>=0.4 (from linearmodels)\n",
      "  Downloading mypy_extensions-1.0.0-py3-none-any.whl.metadata (1.1 kB)\n",
      "Collecting Cython>=3.0.10 (from linearmodels)\n",
      "  Downloading Cython-3.0.12-cp312-cp312-manylinux_2_17_x86_64.manylinux2014_x86_64.whl.metadata (3.3 kB)\n",
      "Collecting pyhdfe>=0.1 (from linearmodels)\n",
      "  Downloading pyhdfe-0.2.0-py3-none-any.whl.metadata (4.0 kB)\n",
      "Collecting formulaic>=1.0.0 (from linearmodels)\n",
      "  Downloading formulaic-1.1.1-py3-none-any.whl.metadata (6.9 kB)\n",
      "Collecting setuptools-scm<9.0.0,>=8.0.0 (from setuptools-scm[toml]<9.0.0,>=8.0.0->linearmodels)\n",
      "  Downloading setuptools_scm-8.2.0-py3-none-any.whl.metadata (6.8 kB)\n",
      "Collecting interface-meta>=1.2.0 (from formulaic>=1.0.0->linearmodels)\n",
      "  Downloading interface_meta-1.3.0-py3-none-any.whl.metadata (6.7 kB)\n",
      "Requirement already satisfied: typing-extensions>=4.2.0 in /home/codespace/.local/lib/python3.12/site-packages (from formulaic>=1.0.0->linearmodels) (4.12.2)\n",
      "Collecting wrapt>=1.0 (from formulaic>=1.0.0->linearmodels)\n",
      "  Downloading wrapt-1.17.2-cp312-cp312-manylinux_2_5_x86_64.manylinux1_x86_64.manylinux_2_17_x86_64.manylinux2014_x86_64.whl.metadata (6.4 kB)\n",
      "Requirement already satisfied: python-dateutil>=2.8.2 in /home/codespace/.local/lib/python3.12/site-packages (from pandas>=1.4.0->linearmodels) (2.9.0.post0)\n",
      "Requirement already satisfied: pytz>=2020.1 in /home/codespace/.local/lib/python3.12/site-packages (from pandas>=1.4.0->linearmodels) (2024.2)\n",
      "Requirement already satisfied: tzdata>=2022.7 in /home/codespace/.local/lib/python3.12/site-packages (from pandas>=1.4.0->linearmodels) (2024.2)\n",
      "Requirement already satisfied: packaging>=20 in /home/codespace/.local/lib/python3.12/site-packages (from setuptools-scm<9.0.0,>=8.0.0->setuptools-scm[toml]<9.0.0,>=8.0.0->linearmodels) (24.2)\n",
      "Requirement already satisfied: setuptools>=61 in /home/codespace/.local/lib/python3.12/site-packages (from setuptools-scm<9.0.0,>=8.0.0->setuptools-scm[toml]<9.0.0,>=8.0.0->linearmodels) (75.6.0)\n",
      "Collecting patsy>=0.5.6 (from statsmodels>=0.13.0->linearmodels)\n",
      "  Downloading patsy-1.0.1-py2.py3-none-any.whl.metadata (3.3 kB)\n",
      "Requirement already satisfied: six>=1.5 in /home/codespace/.local/lib/python3.12/site-packages (from python-dateutil>=2.8.2->pandas>=1.4.0->linearmodels) (1.17.0)\n",
      "Downloading linearmodels-6.1-cp312-cp312-manylinux_2_17_x86_64.manylinux2014_x86_64.whl (1.7 MB)\n",
      "\u001b[2K   \u001b[90m━━━━━━━━━━━━━━━━━━━━━━━━━━━━━━━━━━━━━━━━\u001b[0m \u001b[32m1.7/1.7 MB\u001b[0m \u001b[31m33.3 MB/s\u001b[0m eta \u001b[36m0:00:00\u001b[0m\n",
      "\u001b[?25hDownloading Cython-3.0.12-cp312-cp312-manylinux_2_17_x86_64.manylinux2014_x86_64.whl (3.5 MB)\n",
      "\u001b[2K   \u001b[90m━━━━━━━━━━━━━━━━━━━━━━━━━━━━━━━━━━━━━━━━\u001b[0m \u001b[32m3.5/3.5 MB\u001b[0m \u001b[31m41.6 MB/s\u001b[0m eta \u001b[36m0:00:00\u001b[0m\n",
      "\u001b[?25hDownloading formulaic-1.1.1-py3-none-any.whl (115 kB)\n",
      "Downloading mypy_extensions-1.0.0-py3-none-any.whl (4.7 kB)\n",
      "Downloading pyhdfe-0.2.0-py3-none-any.whl (19 kB)\n",
      "Downloading setuptools_scm-8.2.0-py3-none-any.whl (43 kB)\n",
      "Downloading statsmodels-0.14.4-cp312-cp312-manylinux_2_17_x86_64.manylinux2014_x86_64.whl (10.7 MB)\n",
      "\u001b[2K   \u001b[90m━━━━━━━━━━━━━━━━━━━━━━━━━━━━━━━━━━━━━━━━\u001b[0m \u001b[32m10.7/10.7 MB\u001b[0m \u001b[31m52.8 MB/s\u001b[0m eta \u001b[36m0:00:00\u001b[0m\n",
      "\u001b[?25hDownloading interface_meta-1.3.0-py3-none-any.whl (14 kB)\n",
      "Downloading patsy-1.0.1-py2.py3-none-any.whl (232 kB)\n",
      "Downloading wrapt-1.17.2-cp312-cp312-manylinux_2_5_x86_64.manylinux1_x86_64.manylinux_2_17_x86_64.manylinux2014_x86_64.whl (89 kB)\n",
      "Installing collected packages: wrapt, setuptools-scm, patsy, mypy-extensions, interface-meta, Cython, pyhdfe, statsmodels, formulaic, linearmodels\n",
      "Successfully installed Cython-3.0.12 formulaic-1.1.1 interface-meta-1.3.0 linearmodels-6.1 mypy-extensions-1.0.0 patsy-1.0.1 pyhdfe-0.2.0 setuptools-scm-8.2.0 statsmodels-0.14.4 wrapt-1.17.2\n",
      "\n",
      "\u001b[1m[\u001b[0m\u001b[34;49mnotice\u001b[0m\u001b[1;39;49m]\u001b[0m\u001b[39;49m A new release of pip is available: \u001b[0m\u001b[31;49m24.3.1\u001b[0m\u001b[39;49m -> \u001b[0m\u001b[32;49m25.0.1\u001b[0m\n",
      "\u001b[1m[\u001b[0m\u001b[34;49mnotice\u001b[0m\u001b[1;39;49m]\u001b[0m\u001b[39;49m To update, run: \u001b[0m\u001b[32;49mpython3 -m pip install --upgrade pip\u001b[0m\n"
     ]
    },
    {
     "ename": "NameError",
     "evalue": "name 'df_unbalanced' is not defined",
     "output_type": "error",
     "traceback": [
      "\u001b[0;31m---------------------------------------------------------------------------\u001b[0m",
      "\u001b[0;31mNameError\u001b[0m                                 Traceback (most recent call last)",
      "Cell \u001b[0;32mIn[5], line 6\u001b[0m\n\u001b[1;32m      3\u001b[0m \u001b[38;5;28;01mfrom\u001b[39;00m \u001b[38;5;21;01mlinearmodels\u001b[39;00m \u001b[38;5;28;01mimport\u001b[39;00m PanelOLS\n\u001b[1;32m      5\u001b[0m \u001b[38;5;66;03m# First, we need a multi-index: (firm, year)\u001b[39;00m\n\u001b[0;32m----> 6\u001b[0m df_panel \u001b[38;5;241m=\u001b[39m \u001b[43mdf_unbalanced\u001b[49m\u001b[38;5;241m.\u001b[39mset_index([\u001b[38;5;124m'\u001b[39m\u001b[38;5;124mindex\u001b[39m\u001b[38;5;124m'\u001b[39m,\u001b[38;5;124m'\u001b[39m\u001b[38;5;124myr\u001b[39m\u001b[38;5;124m'\u001b[39m])\u001b[38;5;241m.\u001b[39msort_index()\n\u001b[1;32m      8\u001b[0m \u001b[38;5;66;03m# The PanelOLS formula approach:\u001b[39;00m\n\u001b[1;32m      9\u001b[0m \u001b[38;5;66;03m# Here 'ldsal' is the dependent variable,\u001b[39;00m\n\u001b[1;32m     10\u001b[0m \u001b[38;5;66;03m# 'lemp' and 'ldpt' are regressors, plus we include \"EntityEffects\" and \"TimeEffects\".\u001b[39;00m\n\u001b[1;32m     11\u001b[0m fe_model \u001b[38;5;241m=\u001b[39m PanelOLS\u001b[38;5;241m.\u001b[39mfrom_formula(\n\u001b[1;32m     12\u001b[0m     formula\u001b[38;5;241m=\u001b[39m\u001b[38;5;124m'\u001b[39m\u001b[38;5;124mldsal ~ 1 + lemp + ldpt + EntityEffects + TimeEffects\u001b[39m\u001b[38;5;124m'\u001b[39m,\n\u001b[1;32m     13\u001b[0m     data\u001b[38;5;241m=\u001b[39mdf_panel\n\u001b[1;32m     14\u001b[0m )\u001b[38;5;241m.\u001b[39mfit()\n",
      "\u001b[0;31mNameError\u001b[0m: name 'df_unbalanced' is not defined"
     ]
    }
   ],
   "source": [
    "\n",
    "# First, we need a multi-index: (firm, year)\n",
    "df_panel = df_unbalanced.set_index(['index','yr']).sort_index()\n",
    "\n",
    "# The PanelOLS formula approach:\n",
    "# Here 'ldsal' is the dependent variable,\n",
    "# 'lemp' and 'ldpt' are regressors, plus we include \"EntityEffects\" and \"TimeEffects\".\n",
    "fe_model = PanelOLS.from_formula(\n",
    "    formula='ldsal ~ 1 + lemp + ldpt + EntityEffects + TimeEffects',\n",
    "    data=df_panel\n",
    ").fit()\n",
    "print(fe_model)"
   ]
  },
  {
   "cell_type": "code",
   "execution_count": null,
   "metadata": {},
   "outputs": [
    {
     "ename": "NameError",
     "evalue": "name 'df_unbalanced' is not defined",
     "output_type": "error",
     "traceback": [
      "\u001b[0;31m---------------------------------------------------------------------------\u001b[0m",
      "\u001b[0;31mNameError\u001b[0m                                 Traceback (most recent call last)",
      "Cell \u001b[0;32mIn[6], line 6\u001b[0m\n\u001b[1;32m      2\u001b[0m \u001b[38;5;28;01mimport\u001b[39;00m \u001b[38;5;21;01mnumpy\u001b[39;00m \u001b[38;5;28;01mas\u001b[39;00m \u001b[38;5;21;01mnp\u001b[39;00m\n\u001b[1;32m      4\u001b[0m \u001b[38;5;66;03m# Let's pretend we have 'survive' in df_unbalanced.\u001b[39;00m\n\u001b[1;32m      5\u001b[0m \u001b[38;5;66;03m# 1) Build design matrix with dummies for year and industry:\u001b[39;00m\n\u001b[0;32m----> 6\u001b[0m \u001b[43mdf_unbalanced\u001b[49m[\u001b[38;5;124m'\u001b[39m\u001b[38;5;124mintercept\u001b[39m\u001b[38;5;124m'\u001b[39m] \u001b[38;5;241m=\u001b[39m \u001b[38;5;241m1\u001b[39m\n\u001b[1;32m      7\u001b[0m X_cols \u001b[38;5;241m=\u001b[39m [\u001b[38;5;124m'\u001b[39m\u001b[38;5;124mintercept\u001b[39m\u001b[38;5;124m'\u001b[39m, \u001b[38;5;124m'\u001b[39m\u001b[38;5;124mldinv\u001b[39m\u001b[38;5;124m'\u001b[39m, \u001b[38;5;124m'\u001b[39m\u001b[38;5;124mldpt\u001b[39m\u001b[38;5;124m'\u001b[39m]\n\u001b[1;32m      9\u001b[0m \u001b[38;5;66;03m# Add year and industry dummies (one approach is to get dummies and then drop one)\u001b[39;00m\n",
      "\u001b[0;31mNameError\u001b[0m: name 'df_unbalanced' is not defined"
     ]
    }
   ],
   "source": [
    "\n",
    "\n",
    "# Let's pretend we have 'survive' in df_unbalanced.\n",
    "# 1) Build design matrix with dummies for year and industry:\n",
    "df_unbalanced['intercept'] = 1\n",
    "X_cols = ['intercept', 'ldinv', 'ldpt']\n",
    "\n",
    "# Add year and industry dummies (one approach is to get dummies and then drop one)\n",
    "df_dummies = pd.get_dummies(df_unbalanced[['yr','sic3']], prefix=['yr','sic3'], drop_first=True)\n",
    "X = pd.concat([df_unbalanced[X_cols], df_dummies], axis=1)\n",
    "y = df_unbalanced['survive']  # must exist in your data\n",
    "\n",
    "# 2) Fit probit model\n",
    "probit_model = sm.Probit(y, X, missing='drop').fit()\n",
    "print(probit_model.summary())\n",
    "\n",
    "# Interpret signs of coefficients on ldinv, ldpt, etc."
   ]
  },
  {
   "cell_type": "code",
   "execution_count": null,
   "metadata": {},
   "outputs": [
    {
     "ename": "NameError",
     "evalue": "name 'df_unbalanced' is not defined",
     "output_type": "error",
     "traceback": [
      "\u001b[0;31m---------------------------------------------------------------------------\u001b[0m",
      "\u001b[0;31mNameError\u001b[0m                                 Traceback (most recent call last)",
      "Cell \u001b[0;32mIn[7], line 13\u001b[0m\n\u001b[1;32m     10\u001b[0m initial_beta_l \u001b[38;5;241m=\u001b[39m \u001b[38;5;241m0.5\u001b[39m  \u001b[38;5;66;03m# example placeholder\u001b[39;00m\n\u001b[1;32m     12\u001b[0m \u001b[38;5;66;03m# Construct the dependent variable for the first stage\u001b[39;00m\n\u001b[0;32m---> 13\u001b[0m df_unbalanced[\u001b[38;5;124m'\u001b[39m\u001b[38;5;124my_tilde\u001b[39m\u001b[38;5;124m'\u001b[39m] \u001b[38;5;241m=\u001b[39m \u001b[43mdf_unbalanced\u001b[49m[\u001b[38;5;124m'\u001b[39m\u001b[38;5;124mldsal\u001b[39m\u001b[38;5;124m'\u001b[39m] \u001b[38;5;241m-\u001b[39m initial_beta_l \u001b[38;5;241m*\u001b[39m df_unbalanced[\u001b[38;5;124m'\u001b[39m\u001b[38;5;124mlemp\u001b[39m\u001b[38;5;124m'\u001b[39m]\n\u001b[1;32m     15\u001b[0m \u001b[38;5;66;03m# Let's do a simple polynomial in capital and investment:\u001b[39;00m\n\u001b[1;32m     16\u001b[0m df_unbalanced[\u001b[38;5;124m'\u001b[39m\u001b[38;5;124mk\u001b[39m\u001b[38;5;124m'\u001b[39m] \u001b[38;5;241m=\u001b[39m df_unbalanced[\u001b[38;5;124m'\u001b[39m\u001b[38;5;124mldpt\u001b[39m\u001b[38;5;124m'\u001b[39m]\n",
      "\u001b[0;31mNameError\u001b[0m: name 'df_unbalanced' is not defined"
     ]
    }
   ],
   "source": [
    "\n",
    "\n",
    "# Assume we have: y = ldsal, labor = lemp, capital = ldpt, investment = ldinv.\n",
    "# 1) First stage: y - beta_l * l = phi(k, i) + eps\n",
    "#    Where phi(...) is approximated by a polynomial or spline in k and i.\n",
    "\n",
    "# We guess an initial labor coefficient from OLS or from prior knowledge:\n",
    "initial_beta_l = 0.5  # example placeholder\n",
    "\n",
    "# Construct the dependent variable for the first stage\n",
    "df_unbalanced['y_tilde'] = df_unbalanced['ldsal'] - initial_beta_l * df_unbalanced['lemp']\n",
    "\n",
    "# Let's do a simple polynomial in capital and investment:\n",
    "df_unbalanced['k'] = df_unbalanced['ldpt']\n",
    "df_unbalanced['i'] = df_unbalanced['ldinv']\n",
    "\n",
    "# Example: a second-order polynomial in (k, i)\n",
    "#  y_tilde = a0 + a1*k + a2*i + a3*k^2 + a4*i^2 + a5*k*i + error\n",
    "first_stage_model = smf.ols(\"y_tilde ~ k + i + I(k**2) + I(i**2) + I(k*i)\",\n",
    "                            data=df_unbalanced).fit()\n",
    "print(first_stage_model.summary())\n",
    "\n",
    "# Predicted \"phi_hat\"\n",
    "df_unbalanced['phi_hat'] = first_stage_model.fittedvalues\n",
    "\n",
    "# 2) Second stage: identify the capital coefficient by projecting out the expected productivity\n",
    "#    and controlling for survival or selection. In OP, we use the \"phi_hat\" and \"phi_hat_lag\"\n",
    "#    plus survival corrections. The details can be quite involved.\n",
    "\n",
    "# For illustration:\n",
    "df_unbalanced['phi_hat_lag'] = df_unbalanced.groupby('index')['phi_hat'].shift(1)\n",
    "\n",
    "# Then we might run:\n",
    "second_stage_model = smf.ols(\"ldsal ~ lemp + ldpt + phi_hat_lag\",\n",
    "                             data=df_unbalanced.dropna()).fit()\n",
    "print(second_stage_model.summary())\n",
    "\n",
    "# The coefficient on ldpt would be your OP estimate of capital's coefficient.\n",
    "# If you want to incorporate selection controls, you'd add an inverse Mills ratio\n",
    "# from a survival probit, or a polynomial in phi_hat_lag. This is just a skeleton."
   ]
  },
  {
   "cell_type": "code",
   "execution_count": 8,
   "metadata": {},
   "outputs": [
    {
     "ename": "NameError",
     "evalue": "name 'second_stage_model' is not defined",
     "output_type": "error",
     "traceback": [
      "\u001b[0;31m---------------------------------------------------------------------------\u001b[0m",
      "\u001b[0;31mNameError\u001b[0m                                 Traceback (most recent call last)",
      "Cell \u001b[0;32mIn[8], line 2\u001b[0m\n\u001b[1;32m      1\u001b[0m \u001b[38;5;66;03m# 1) Suppose second_stage_model from OP gave us fitted values or residuals as firm TFP\u001b[39;00m\n\u001b[0;32m----> 2\u001b[0m df_unbalanced[\u001b[38;5;124m'\u001b[39m\u001b[38;5;124mtfp_hat\u001b[39m\u001b[38;5;124m'\u001b[39m] \u001b[38;5;241m=\u001b[39m \u001b[43msecond_stage_model\u001b[49m\u001b[38;5;241m.\u001b[39mresid  \u001b[38;5;66;03m# or fitted productivity measure\u001b[39;00m\n\u001b[1;32m      4\u001b[0m \u001b[38;5;66;03m# 2) Compute firm-year market share within each SIC3:\u001b[39;00m\n\u001b[1;32m      5\u001b[0m df_unbalanced[\u001b[38;5;124m'\u001b[39m\u001b[38;5;124msector_sales\u001b[39m\u001b[38;5;124m'\u001b[39m] \u001b[38;5;241m=\u001b[39m df_unbalanced\u001b[38;5;241m.\u001b[39mgroupby([\u001b[38;5;124m'\u001b[39m\u001b[38;5;124msic3\u001b[39m\u001b[38;5;124m'\u001b[39m,\u001b[38;5;124m'\u001b[39m\u001b[38;5;124myr\u001b[39m\u001b[38;5;124m'\u001b[39m])[\u001b[38;5;124m'\u001b[39m\u001b[38;5;124mldsal\u001b[39m\u001b[38;5;124m'\u001b[39m]\u001b[38;5;241m.\u001b[39mtransform(\u001b[38;5;28;01mlambda\u001b[39;00m x: x\u001b[38;5;241m.\u001b[39msum())\n",
      "\u001b[0;31mNameError\u001b[0m: name 'second_stage_model' is not defined"
     ]
    }
   ],
   "source": [
    "# 1) Suppose second_stage_model from OP gave us fitted values or residuals as firm TFP\n",
    "df_unbalanced['tfp_hat'] = second_stage_model.resid  # or fitted productivity measure\n",
    "\n",
    "# 2) Compute firm-year market share within each SIC3:\n",
    "df_unbalanced['sector_sales'] = df_unbalanced.groupby(['sic3','yr'])['ldsal'].transform(lambda x: x.sum())\n",
    "# CAREFUL: 'ldsal' is log(sales). We might want actual sales, not logs.\n",
    "# If you only have logs, do something like:\n",
    "df_unbalanced['sales'] = df_unbalanced['ldsal'].apply(np.exp)  # approximate real sales\n",
    "df_unbalanced['sector_sales'] = df_unbalanced.groupby(['sic3','yr'])['sales'].transform('sum')\n",
    "df_unbalanced['mshare'] = df_unbalanced['sales'] / df_unbalanced['sector_sales']\n",
    "\n",
    "# 3) Weighted TFP at sector-year level\n",
    "df_unbalanced['weighted_tfp'] = df_unbalanced['mshare'] * df_unbalanced['tfp_hat']\n",
    "\n",
    "# 4) Aggregate by sector-year\n",
    "sector_year_tfp = df_unbalanced.groupby(['sic3','yr'])['weighted_tfp'].sum().reset_index()\n",
    "sector_year_tfp.rename(columns={'weighted_tfp':'aggregate_tfp'}, inplace=True)\n",
    "\n",
    "print(sector_year_tfp)"
   ]
  }
 ],
 "metadata": {
  "kernelspec": {
   "display_name": "Python 3",
   "language": "python",
   "name": "python3"
  },
  "language_info": {
   "codemirror_mode": {
    "name": "ipython",
    "version": 3
   },
   "file_extension": ".py",
   "mimetype": "text/x-python",
   "name": "python",
   "nbconvert_exporter": "python",
   "pygments_lexer": "ipython3",
   "version": "3.12.1"
  }
 },
 "nbformat": 4,
 "nbformat_minor": 2
}
